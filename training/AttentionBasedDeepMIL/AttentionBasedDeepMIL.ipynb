{
  "nbformat": 4,
  "nbformat_minor": 0,
  "metadata": {
    "colab": {
      "provenance": []
    },
    "kernelspec": {
      "name": "python3",
      "display_name": "Python 3"
    },
    "language_info": {
      "name": "python"
    }
  },
  "cells": [
    {
      "cell_type": "markdown",
      "source": [
        "# Satellite Imagery Classification using Attention-based Deep MIL"
      ],
      "metadata": {
        "id": "qA7_qR_0g3Is"
      }
    },
    {
      "cell_type": "markdown",
      "source": [
        "Date: 27/04/2025  \n",
        "\n",
        "Aristotle University of Thessaloniki  \n",
        "\n",
        "MSc in Artificial Intelligence"
      ],
      "metadata": {
        "id": "GG8wntvthb4P"
      }
    },
    {
      "cell_type": "markdown",
      "source": [
        "## Import Libraries"
      ],
      "metadata": {
        "id": "0_UyygUihQ94"
      }
    },
    {
      "cell_type": "code",
      "source": [
        "import numpy as np\n",
        "import keras\n",
        "from keras import layers, ops\n",
        "from tqdm import tqdm\n",
        "from matplotlib import pyplot as plt\n",
        "import gdown\n",
        "import requests\n",
        "import os\n",
        "import yaml\n",
        "import random\n",
        "\n",
        "# Set the seed for random function of python\n",
        "random.seed(1)"
      ],
      "metadata": {
        "id": "FHKfeSKQp0Al"
      },
      "execution_count": 2,
      "outputs": []
    },
    {
      "cell_type": "markdown",
      "source": [
        "## Unzip Bags dataset"
      ],
      "metadata": {
        "id": "L227ix1aoZJ6"
      }
    },
    {
      "cell_type": "code",
      "source": [
        "# unzip fetched dataset\n",
        "!unzip -q /content/drive/MyDrive/VIIRS/bagsAugmented.zip -d /content/"
      ],
      "metadata": {
        "id": "rS7TyIb5icID"
      },
      "execution_count": 3,
      "outputs": []
    },
    {
      "cell_type": "markdown",
      "source": [
        "## Collect GDB statistics"
      ],
      "metadata": {
        "id": "X0bbF1z5odlS"
      }
    },
    {
      "cell_type": "code",
      "source": [
        "url = \"https://raw.githubusercontent.com/pleleGit/SatSenseAI/main/statistics/gdbBinary.yaml\"\n",
        "response = requests.get(url)\n",
        "\n",
        "with open(\"gdbBinary.yaml\", \"wb\") as f:\n",
        "    f.write(response.content)"
      ],
      "metadata": {
        "id": "OxXEp2DFoikF"
      },
      "execution_count": 4,
      "outputs": []
    },
    {
      "cell_type": "markdown",
      "source": [
        "## Create & Import Bags"
      ],
      "metadata": {
        "id": "qZYwmawGpdMm"
      }
    },
    {
      "cell_type": "code",
      "source": [
        "# load gdbBinary.yaml\n",
        "with open(\"gdbBinary.yaml\", \"r\") as f:\n",
        "    gdbBinary = yaml.safe_load(f)"
      ],
      "metadata": {
        "id": "IZf0Hirrt42-"
      },
      "execution_count": 5,
      "outputs": []
    },
    {
      "cell_type": "code",
      "source": [
        "gdb = gdbBinary[\"gdp_per_capita_index\"]"
      ],
      "metadata": {
        "id": "nfEa8T-wt6NE"
      },
      "execution_count": 6,
      "outputs": []
    },
    {
      "cell_type": "code",
      "source": [
        "# load custom Bags dataset for training with Keras\n",
        "train_bags = []\n",
        "val_bags = []\n",
        "test_bags = []\n",
        "dataset_path = \"/content/bagsAugmented\"\n",
        "instances_count = 50\n",
        "train_bags_labels = []\n",
        "val_bags_labels = []\n",
        "test_bags_labels = []\n",
        "countries = sorted(os.listdir(dataset_path))\n",
        "years = sorted(os.listdir(os.path.join(dataset_path, countries[0])))\n",
        "print(f\"Countries: {countries}\")\n",
        "print(f\"Bags per year: {years}\")\n",
        "train_countries = random.sample(countries, 12)\n",
        "for i, country in enumerate(countries):\n",
        "    val_year = random.sample(years, 2)\n",
        "    for year_bag in years:\n",
        "        bag = []\n",
        "        # Get the list of files\n",
        "        all_files = os.listdir(os.path.join(dataset_path, country, year_bag))\n",
        "        # Pick 30 random files without replacement\n",
        "        selected_files = random.sample(all_files, instances_count)\n",
        "        for img_path in selected_files:\n",
        "            # Loads each image into PIL format\n",
        "            img = keras.preprocessing.image.load_img(os.path.join(dataset_path, country, year_bag, img_path),\n",
        "                                                    target_size=(300, 225),\n",
        "                                                    color_mode=\"grayscale\")\n",
        "            # Converts a PIL Image instance to a NumPy array\n",
        "            img_array = keras.preprocessing.image.img_to_array(img)\n",
        "            img_array = img_array / 255.0  # standardize image to [0, 1]\n",
        "            bag.append(img_array)\n",
        "            if len(bag) == instances_count:\n",
        "                break\n",
        "        # collect the corresponding gdp per capita index\n",
        "        id = int(year_bag[1:]) - 14\n",
        "        if country in train_countries:\n",
        "            if year_bag in val_year:\n",
        "                val_bags.append(bag)\n",
        "                val_bags_labels.append([gdb[country][id]])\n",
        "            else:\n",
        "                train_bags.append(bag)\n",
        "                train_bags_labels.append([gdb[country][id]])\n",
        "        else:\n",
        "            test_bags.append(bag)\n",
        "            test_bags_labels.append([gdb[country][id]])\n",
        "train_bags = np.squeeze(np.swapaxes(np.array(train_bags), 0, 1))\n",
        "train_bags_labels = np.array(train_bags_labels)\n",
        "val_bags = np.squeeze(np.swapaxes(np.array(val_bags), 0, 1))\n",
        "val_bags_labels = np.array(val_bags_labels)\n",
        "test_bags = np.squeeze(np.swapaxes(np.array(test_bags), 0, 1))\n",
        "test_bags_labels = np.array(test_bags_labels)"
      ],
      "metadata": {
        "colab": {
          "base_uri": "https://localhost:8080/"
        },
        "id": "CC_8itwopc6v",
        "outputId": "902f2cb3-0285-4492-db01-269ca87b58aa"
      },
      "execution_count": 7,
      "outputs": [
        {
          "output_type": "stream",
          "name": "stdout",
          "text": [
            "Countries: ['Albania', 'Austria', 'Belgium', 'Bosnia', 'Bulgaria', 'England', 'FYROM', 'France', 'Germany', 'Greece', 'Hungary', 'Italy', 'Montenegro', 'Netherlands', 'Poland', 'Portugal', 'Romania', 'Serbia', 'Spain']\n",
            "Bags per year: ['b14', 'b15', 'b16', 'b17', 'b18', 'b19', 'b20', 'b21', 'b22', 'b23']\n"
          ]
        }
      ]
    },
    {
      "cell_type": "code",
      "source": [
        "print(\"~~~~~~~~~~~ Stats for training set: ~~~~~~~~~~~\")\n",
        "print(f\"Bags Shape: {train_bags.shape}\")\n",
        "print(f\"Number of Bags: {train_bags.shape[1]}\")\n",
        "print(f\"Number of Instances per Bag: {train_bags.shape[0]}\")\n",
        "print(f\"Shape of each Instance: {train_bags.shape[2:]}\")\n",
        "print(f\"Shape of Labels: {train_bags_labels.shape}\")\n",
        "print(\"~~~~~~~~~~~ Stats for validation set: ~~~~~~~~~~~\")\n",
        "print(f\"Bags Shape: {val_bags.shape}\")\n",
        "print(f\"Number of Bags: {val_bags.shape[1]}\")\n",
        "print(f\"Number of Instances per Bag: {val_bags.shape[0]}\")\n",
        "print(f\"Shape of each Instance: {val_bags.shape[2:]}\")\n",
        "print(f\"Shape of Labels: {val_bags_labels.shape}\")\n",
        "print(\"~~~~~~~~~~~ Stats for test set: ~~~~~~~~~~~\")\n",
        "print(f\"Bags Shape: {test_bags.shape}\")\n",
        "print(f\"Number of Bags: {test_bags.shape[1]}\")\n",
        "print(f\"Number of Instances per Bag: {test_bags.shape[0]}\")\n",
        "print(f\"Shape of each Instance: {test_bags.shape[2:]}\")\n",
        "print(f\"Shape of Labels: {test_bags_labels.shape}\")\n",
        "train_bags = list(train_bags)\n",
        "val_bags = list(val_bags)\n",
        "test_bags = list(test_bags)"
      ],
      "metadata": {
        "colab": {
          "base_uri": "https://localhost:8080/"
        },
        "id": "JrCl5nmGrZ_X",
        "outputId": "e12966f2-f6c9-4416-e786-df8a0d94e4da"
      },
      "execution_count": 8,
      "outputs": [
        {
          "output_type": "stream",
          "name": "stdout",
          "text": [
            "~~~~~~~~~~~ Stats for training set: ~~~~~~~~~~~\n",
            "Bags Shape: (50, 96, 300, 225)\n",
            "Number of Bags: 96\n",
            "Number of Instances per Bag: 50\n",
            "Shape of each Instance: (300, 225)\n",
            "Shape of Labels: (96, 1)\n",
            "~~~~~~~~~~~ Stats for validation set: ~~~~~~~~~~~\n",
            "Bags Shape: (50, 24, 300, 225)\n",
            "Number of Bags: 24\n",
            "Number of Instances per Bag: 50\n",
            "Shape of each Instance: (300, 225)\n",
            "Shape of Labels: (24, 1)\n",
            "~~~~~~~~~~~ Stats for test set: ~~~~~~~~~~~\n",
            "Bags Shape: (50, 70, 300, 225)\n",
            "Number of Bags: 70\n",
            "Number of Instances per Bag: 50\n",
            "Shape of each Instance: (300, 225)\n",
            "Shape of Labels: (70, 1)\n"
          ]
        }
      ]
    },
    {
      "cell_type": "code",
      "source": [
        "print(f\"Positive / Negative Bags in train set: {np.sum(train_bags_labels)} / {train_bags_labels.shape[0] - np.sum(train_bags_labels)}\")\n",
        "print(f\"Positive / Negative Bags in validation set: {np.sum(val_bags_labels)} / {val_bags_labels.shape[0] - np.sum(val_bags_labels)}\")\n",
        "print(f\"Positive / Negative Bags in test set: {np.sum(test_bags_labels)} / {test_bags_labels.shape[0] - np.sum(test_bags_labels)}\")"
      ],
      "metadata": {
        "colab": {
          "base_uri": "https://localhost:8080/"
        },
        "id": "djC7SWNYxTBF",
        "outputId": "caf1d224-09e3-4b2e-e2a1-b133174e4756"
      },
      "execution_count": 9,
      "outputs": [
        {
          "output_type": "stream",
          "name": "stdout",
          "text": [
            "Positive / Negative Bags in train set: 61 / 35\n",
            "Positive / Negative Bags in validation set: 14 / 10\n",
            "Positive / Negative Bags in test set: 35 / 35\n"
          ]
        }
      ]
    },
    {
      "cell_type": "markdown",
      "source": [
        "## Prepare the MIL Attention layer"
      ],
      "metadata": {
        "id": "3OCaZnLGzWFj"
      }
    },
    {
      "cell_type": "code",
      "source": [
        "class MILAttentionLayer(layers.Layer):\n",
        "    def __init__(self, weight_dim, kernel_init=\"glorot_uniform\", kernel_reg=\"None\", use_gated=False, **kwargs):\n",
        "        super().__init__(**kwargs)\n",
        "        self.weight_dim = weight_dim  # dimension of the weight matrix\n",
        "        self.use_gated = use_gated  # to enable/disable gated mechanism\n",
        "        self.kernel_init = keras.initializers.get(kernel_init)\n",
        "        self.kernel_reg = keras.regularizers.get(kernel_reg)\n",
        "\n",
        "        self.v_init = self.kernel_init\n",
        "        self.w_init = self.kernel_init\n",
        "        self.u_init = self.kernel_init\n",
        "\n",
        "        self.v_reg = self.kernel_reg\n",
        "        self.w_reg = self.kernel_reg\n",
        "        self.u_reg = self.kernel_reg\n",
        "\n",
        "    def build(self, input_shape):\n",
        "        # Input shape.\n",
        "        # List of 2D tensors with shape: (batch_size, input_dim).\n",
        "        input_dim = input_shape[0][1]\n",
        "        self.v_weight_params = self.add_weight(\n",
        "            shape=(input_dim, self.weight_dim),\n",
        "            initializer=self.v_init,\n",
        "            name=\"v\",\n",
        "            regularizer=self.v_reg,\n",
        "            trainable=True,\n",
        "        )\n",
        "        self.w_weight_params = self.add_weight(\n",
        "            shape=(self.weight_dim, 1),\n",
        "            initializer=self.w_init,\n",
        "            name=\"w\",\n",
        "            regularizer=self.w_reg,\n",
        "            trainable=True,\n",
        "        )\n",
        "        if self.use_gated:\n",
        "            self.u_weight_params = self.add_weight(\n",
        "                shape=(input_dim, self.weight_dim),\n",
        "                initializer=self.u_init,\n",
        "                name=\"u\",\n",
        "                regularizer=self.u_reg,\n",
        "                trainable=True,\n",
        "            )\n",
        "        else:\n",
        "            self.u_weight_params = None\n",
        "        self.input_built = True\n",
        "\n",
        "    def call(self, inputs):\n",
        "        # Assigning variables from the number of inputs.\n",
        "        instances = [self.compute_attention_scores(instance) for instance in inputs]\n",
        "        # Stack instances into a single tensor.\n",
        "        instances = ops.stack(instances)\n",
        "        # Apply softmax over instances such that the output summation is equal to 1.\n",
        "        alpha = ops.softmax(instances, axis=0)\n",
        "        # Split to recreate the same array of tensors we had as inputs.\n",
        "        return [alpha[i] for i in range(alpha.shape[0])]\n",
        "\n",
        "    def compute_attention_scores(self, instance):\n",
        "        # Reserve in-case \"gated mechanism\" used.\n",
        "        original_instance = instance\n",
        "        # tanh(v*h_k^T)\n",
        "        instance = ops.tanh(ops.tensordot(instance, self.v_weight_params, axes=1))\n",
        "        # for learning non-linear relations efficiently.\n",
        "        if self.use_gated:\n",
        "            instance = instance * ops.sigmoid(\n",
        "                ops.tensordot(original_instance, self.u_weight_params, axes=1)\n",
        "            )\n",
        "        # w^T*(tanh(v*h_k^T)) / w^T*(tanh(v*h_k^T)*sigmoid(u*h_k^T))\n",
        "        return ops.tensordot(instance, self.w_weight_params, axes=1)"
      ],
      "metadata": {
        "id": "j_X6_Wwxx54z"
      },
      "execution_count": 12,
      "outputs": []
    },
    {
      "cell_type": "markdown",
      "source": [
        "## Create Model"
      ],
      "metadata": {
        "id": "-cUHEr_Q2gOw"
      }
    },
    {
      "cell_type": "code",
      "source": [
        "def create_model(instance_shape):\n",
        "    # Extract features from inputs.\n",
        "    inputs, embeddings = [], []\n",
        "    dense_layer_1 = layers.Dense(128, activation=\"relu\", kernel_regularizer=keras.regularizers.L2(0.02))\n",
        "    dense_layer_2 = layers.Dense(64, activation=\"relu\", kernel_regularizer=keras.regularizers.L2(0.02))\n",
        "    for _ in range(instances_count):\n",
        "        inp = layers.Input(instance_shape)\n",
        "        flatten = layers.Flatten()(inp)\n",
        "        dense_1 = dense_layer_1(flatten)\n",
        "        dense_2 = dense_layer_2(dense_1)\n",
        "        inputs.append(inp)\n",
        "        embeddings.append(dense_2)\n",
        "    # Invoke the attention layer.\n",
        "    alpha = MILAttentionLayer(\n",
        "        weight_dim=256,\n",
        "        kernel_reg=keras.regularizers.L2(0.02),\n",
        "        use_gated=True,\n",
        "        name=\"alpha\",\n",
        "    )(embeddings)\n",
        "    # Multiply attention weights with the input layers.\n",
        "    multiply_layers = [\n",
        "        layers.multiply([alpha[i], embeddings[i]]) for i in range(len(alpha))\n",
        "    ]\n",
        "    # Concatenate layers.\n",
        "    concat = layers.concatenate(multiply_layers, axis=1)\n",
        "    # Classification output node.\n",
        "    output = layers.Dense(2, activation=\"softmax\")(concat)\n",
        "    return keras.Model(inputs, output)"
      ],
      "metadata": {
        "id": "7A_sdmP72lPW"
      },
      "execution_count": 13,
      "outputs": []
    },
    {
      "cell_type": "markdown",
      "source": [
        "## Compute Class Weights based on their frequency"
      ],
      "metadata": {
        "id": "DP78IRlT3XKI"
      }
    },
    {
      "cell_type": "code",
      "source": [
        "def compute_class_weights(labels):\n",
        "    # Count number of positive and negative bags.\n",
        "    negative_count = len(np.where(labels == 0)[0])\n",
        "    positive_count = len(np.where(labels == 1)[0])\n",
        "    total_count = negative_count + positive_count\n",
        "    # Build class weight dictionary.\n",
        "    return {\n",
        "        0: (1 / negative_count) * (total_count / 2),\n",
        "        1: (1 / positive_count) * (total_count / 2),\n",
        "    }"
      ],
      "metadata": {
        "id": "vWAP2pJS3V_b"
      },
      "execution_count": 14,
      "outputs": []
    },
    {
      "cell_type": "markdown",
      "source": [
        "## Build and train the model"
      ],
      "metadata": {
        "id": "GzoQsU4L3ntG"
      }
    },
    {
      "cell_type": "code",
      "source": [
        "def plot_learning_curves(history, model_idx=0):\n",
        "    \"\"\"Plot training and validation loss/accuracy.\"\"\"\n",
        "    fig, axs = plt.subplots(1, 2, figsize=(12, 4))\n",
        "    # Loss plot\n",
        "    axs[0].plot(history.history[\"loss\"], label=\"Train Loss\")\n",
        "    axs[0].plot(history.history[\"val_loss\"], label=\"Val Loss\")\n",
        "    axs[0].set_title(f\"Model {model_idx} - Loss\")\n",
        "    axs[0].set_xlabel(\"Epoch\")\n",
        "    axs[0].set_ylabel(\"Loss\")\n",
        "    axs[0].legend()\n",
        "    axs[0].grid()\n",
        "    # Accuracy plot\n",
        "    axs[1].plot(history.history[\"accuracy\"], label=\"Train Accuracy\")\n",
        "    axs[1].plot(history.history[\"val_accuracy\"], label=\"Val Accuracy\")\n",
        "    axs[1].set_title(f\"Model {model_idx} - Accuracy\")\n",
        "    axs[1].set_xlabel(\"Epoch\")\n",
        "    axs[1].set_ylabel(\"Accuracy\")\n",
        "    axs[1].legend()\n",
        "    axs[1].grid()\n",
        "    plt.show()"
      ],
      "metadata": {
        "id": "O4CbEmr_vEQ7"
      },
      "execution_count": 15,
      "outputs": []
    },
    {
      "cell_type": "code",
      "source": [
        "def train(train_data, train_labels, val_data, val_labels, model, model_idx=0):\n",
        "    \"\"\"Train a model with callbacks, better logging, and plots.\"\"\"\n",
        "\n",
        "    # Create a clean temp folder\n",
        "    os.makedirs(\"/tmp\", exist_ok=True)\n",
        "    file_path = f\"/tmp/best_model_{model_idx}.weights.h5\"\n",
        "\n",
        "    # Callbacks\n",
        "    callbacks = [\n",
        "        keras.callbacks.ModelCheckpoint(\n",
        "            file_path,\n",
        "            monitor=\"val_loss\",\n",
        "            verbose=1,\n",
        "            mode=\"min\",\n",
        "            save_best_only=True,\n",
        "            save_weights_only=True,\n",
        "        ),\n",
        "        keras.callbacks.EarlyStopping(\n",
        "            monitor=\"val_loss\",\n",
        "            patience=10,\n",
        "            restore_best_weights=True,\n",
        "            verbose=1,\n",
        "            mode=\"min\",\n",
        "        ),\n",
        "        keras.callbacks.ReduceLROnPlateau(\n",
        "            monitor=\"val_loss\",\n",
        "            factor=0.5,\n",
        "            patience=3,\n",
        "            verbose=1,\n",
        "            mode=\"min\",\n",
        "            min_lr=1e-6,\n",
        "        )\n",
        "    ]\n",
        "    # Compile model\n",
        "    model.compile(\n",
        "        optimizer=keras.optimizers.Adam(learning_rate=1e-3),\n",
        "        loss=\"sparse_categorical_crossentropy\",\n",
        "        metrics=[\"accuracy\"],\n",
        "    )\n",
        "    # Train model\n",
        "    history = model.fit(\n",
        "        train_data,\n",
        "        train_labels,\n",
        "        validation_data=(val_data, val_labels),\n",
        "        epochs=50,\n",
        "        class_weight=compute_class_weights(train_labels),\n",
        "        batch_size=8,\n",
        "        callbacks=callbacks,\n",
        "        verbose=1,\n",
        "    )\n",
        "    # Load best weights\n",
        "    model.load_weights(file_path)\n",
        "    # Plot learning curves\n",
        "    plot_learning_curves(history, model_idx=model_idx)\n",
        "    return model"
      ],
      "metadata": {
        "id": "3JDBFQ-l_RWv"
      },
      "execution_count": null,
      "outputs": []
    },
    {
      "cell_type": "code",
      "source": [
        "ENSEMBLE_COUNT = 1\n",
        "instance_shape = train_bags[0][0].shape\n",
        "models = [create_model(instance_shape) for _ in range(ENSEMBLE_COUNT)]\n",
        "\n",
        "trained_models = [\n",
        "    train(train_bags, train_bags_labels, val_bags, val_bags_labels, model, idx)\n",
        "    for idx, model in enumerate(tqdm(models))\n",
        "]"
      ],
      "metadata": {
        "colab": {
          "base_uri": "https://localhost:8080/",
          "height": 1000
        },
        "id": "qVm15hssyLTF",
        "outputId": "2ef7c7d7-0c51-4622-e059-47ada361d685"
      },
      "execution_count": null,
      "outputs": [
        {
          "output_type": "stream",
          "name": "stderr",
          "text": [
            "\r  0%|          | 0/1 [00:00<?, ?it/s]"
          ]
        },
        {
          "output_type": "stream",
          "name": "stdout",
          "text": [
            "Epoch 1/50\n",
            "\u001b[1m11/11\u001b[0m \u001b[32m━━━━━━━━━━━━━━━━━━━━\u001b[0m\u001b[37m\u001b[0m \u001b[1m0s\u001b[0m 2s/step - accuracy: 0.5465 - loss: 8.9998  \n",
            "Epoch 1: val_loss improved from inf to 5.56069, saving model to /tmp/best_model_0.weights.h5\n",
            "\u001b[1m11/11\u001b[0m \u001b[32m━━━━━━━━━━━━━━━━━━━━\u001b[0m\u001b[37m\u001b[0m \u001b[1m70s\u001b[0m 3s/step - accuracy: 0.5466 - loss: 8.8716 - val_accuracy: 0.5417 - val_loss: 5.5607 - learning_rate: 0.0010\n",
            "Epoch 2/50\n",
            "\u001b[1m11/11\u001b[0m \u001b[32m━━━━━━━━━━━━━━━━━━━━\u001b[0m\u001b[37m\u001b[0m \u001b[1m0s\u001b[0m 77ms/step - accuracy: 0.4262 - loss: 5.4517\n",
            "Epoch 2: val_loss improved from 5.56069 to 4.46438, saving model to /tmp/best_model_0.weights.h5\n",
            "\u001b[1m11/11\u001b[0m \u001b[32m━━━━━━━━━━━━━━━━━━━━\u001b[0m\u001b[37m\u001b[0m \u001b[1m4s\u001b[0m 346ms/step - accuracy: 0.4344 - loss: 5.4288 - val_accuracy: 0.5417 - val_loss: 4.4644 - learning_rate: 0.0010\n",
            "Epoch 3/50\n",
            "\u001b[1m11/11\u001b[0m \u001b[32m━━━━━━━━━━━━━━━━━━━━\u001b[0m\u001b[37m\u001b[0m \u001b[1m0s\u001b[0m 75ms/step - accuracy: 0.6673 - loss: 4.1266\n",
            "Epoch 3: val_loss improved from 4.46438 to 3.54493, saving model to /tmp/best_model_0.weights.h5\n",
            "\u001b[1m11/11\u001b[0m \u001b[32m━━━━━━━━━━━━━━━━━━━━\u001b[0m\u001b[37m\u001b[0m \u001b[1m2s\u001b[0m 160ms/step - accuracy: 0.6663 - loss: 4.1156 - val_accuracy: 0.6667 - val_loss: 3.5449 - learning_rate: 0.0010\n",
            "Epoch 4/50\n",
            "\u001b[1m11/11\u001b[0m \u001b[32m━━━━━━━━━━━━━━━━━━━━\u001b[0m\u001b[37m\u001b[0m \u001b[1m0s\u001b[0m 75ms/step - accuracy: 0.7039 - loss: 3.2935\n",
            "Epoch 4: val_loss improved from 3.54493 to 2.89541, saving model to /tmp/best_model_0.weights.h5\n",
            "\u001b[1m11/11\u001b[0m \u001b[32m━━━━━━━━━━━━━━━━━━━━\u001b[0m\u001b[37m\u001b[0m \u001b[1m5s\u001b[0m 356ms/step - accuracy: 0.7028 - loss: 3.2844 - val_accuracy: 0.8750 - val_loss: 2.8954 - learning_rate: 0.0010\n",
            "Epoch 5/50\n",
            "\u001b[1m11/11\u001b[0m \u001b[32m━━━━━━━━━━━━━━━━━━━━\u001b[0m\u001b[37m\u001b[0m \u001b[1m0s\u001b[0m 75ms/step - accuracy: 0.9405 - loss: 2.6535\n",
            "Epoch 5: val_loss improved from 2.89541 to 2.51664, saving model to /tmp/best_model_0.weights.h5\n",
            "\u001b[1m11/11\u001b[0m \u001b[32m━━━━━━━━━━━━━━━━━━━━\u001b[0m\u001b[37m\u001b[0m \u001b[1m5s\u001b[0m 527ms/step - accuracy: 0.9335 - loss: 2.6451 - val_accuracy: 0.6667 - val_loss: 2.5166 - learning_rate: 0.0010\n",
            "Epoch 6/50\n",
            "\u001b[1m11/11\u001b[0m \u001b[32m━━━━━━━━━━━━━━━━━━━━\u001b[0m\u001b[37m\u001b[0m \u001b[1m0s\u001b[0m 77ms/step - accuracy: 0.9824 - loss: 2.0923\n",
            "Epoch 6: val_loss improved from 2.51664 to 2.21016, saving model to /tmp/best_model_0.weights.h5\n",
            "\u001b[1m11/11\u001b[0m \u001b[32m━━━━━━━━━━━━━━━━━━━━\u001b[0m\u001b[37m\u001b[0m \u001b[1m5s\u001b[0m 494ms/step - accuracy: 0.9799 - loss: 2.0881 - val_accuracy: 0.7500 - val_loss: 2.2102 - learning_rate: 0.0010\n",
            "Epoch 7/50\n",
            "\u001b[1m11/11\u001b[0m \u001b[32m━━━━━━━━━━━━━━━━━━━━\u001b[0m\u001b[37m\u001b[0m \u001b[1m0s\u001b[0m 76ms/step - accuracy: 0.9511 - loss: 1.7689\n",
            "Epoch 7: val_loss did not improve from 2.21016\n",
            "\u001b[1m11/11\u001b[0m \u001b[32m━━━━━━━━━━━━━━━━━━━━\u001b[0m\u001b[37m\u001b[0m \u001b[1m1s\u001b[0m 109ms/step - accuracy: 0.9472 - loss: 1.7669 - val_accuracy: 0.5417 - val_loss: 2.2466 - learning_rate: 0.0010\n",
            "Epoch 8/50\n",
            "\u001b[1m11/11\u001b[0m \u001b[32m━━━━━━━━━━━━━━━━━━━━\u001b[0m\u001b[37m\u001b[0m \u001b[1m0s\u001b[0m 73ms/step - accuracy: 0.8896 - loss: 1.7688\n",
            "Epoch 8: val_loss improved from 2.21016 to 2.18370, saving model to /tmp/best_model_0.weights.h5\n",
            "\u001b[1m11/11\u001b[0m \u001b[32m━━━━━━━━━━━━━━━━━━━━\u001b[0m\u001b[37m\u001b[0m \u001b[1m2s\u001b[0m 163ms/step - accuracy: 0.8879 - loss: 1.7700 - val_accuracy: 0.5833 - val_loss: 2.1837 - learning_rate: 0.0010\n",
            "Epoch 9/50\n",
            "\u001b[1m11/11\u001b[0m \u001b[32m━━━━━━━━━━━━━━━━━━━━\u001b[0m\u001b[37m\u001b[0m \u001b[1m0s\u001b[0m 77ms/step - accuracy: 0.9563 - loss: 1.4875\n",
            "Epoch 9: val_loss improved from 2.18370 to 1.81813, saving model to /tmp/best_model_0.weights.h5\n",
            "\u001b[1m11/11\u001b[0m \u001b[32m━━━━━━━━━━━━━━━━━━━━\u001b[0m\u001b[37m\u001b[0m \u001b[1m3s\u001b[0m 186ms/step - accuracy: 0.9549 - loss: 1.4843 - val_accuracy: 0.6667 - val_loss: 1.8181 - learning_rate: 0.0010\n",
            "Epoch 10/50\n",
            "\u001b[1m11/11\u001b[0m \u001b[32m━━━━━━━━━━━━━━━━━━━━\u001b[0m\u001b[37m\u001b[0m \u001b[1m0s\u001b[0m 85ms/step - accuracy: 0.9475 - loss: 1.1370\n",
            "Epoch 10: val_loss improved from 1.81813 to 1.78840, saving model to /tmp/best_model_0.weights.h5\n",
            "\u001b[1m11/11\u001b[0m \u001b[32m━━━━━━━━━━━━━━━━━━━━\u001b[0m\u001b[37m\u001b[0m \u001b[1m2s\u001b[0m 191ms/step - accuracy: 0.9469 - loss: 1.1386 - val_accuracy: 0.6250 - val_loss: 1.7884 - learning_rate: 0.0010\n",
            "Epoch 11/50\n",
            "\u001b[1m11/11\u001b[0m \u001b[32m━━━━━━━━━━━━━━━━━━━━\u001b[0m\u001b[37m\u001b[0m \u001b[1m0s\u001b[0m 76ms/step - accuracy: 0.9558 - loss: 1.1294\n",
            "Epoch 11: val_loss improved from 1.78840 to 1.74258, saving model to /tmp/best_model_0.weights.h5\n",
            "\u001b[1m11/11\u001b[0m \u001b[32m━━━━━━━━━━━━━━━━━━━━\u001b[0m\u001b[37m\u001b[0m \u001b[1m3s\u001b[0m 280ms/step - accuracy: 0.9565 - loss: 1.1282 - val_accuracy: 0.7083 - val_loss: 1.7426 - learning_rate: 0.0010\n",
            "Epoch 12/50\n",
            "\u001b[1m11/11\u001b[0m \u001b[32m━━━━━━━━━━━━━━━━━━━━\u001b[0m\u001b[37m\u001b[0m \u001b[1m0s\u001b[0m 78ms/step - accuracy: 0.9685 - loss: 1.2961\n",
            "Epoch 12: val_loss did not improve from 1.74258\n",
            "\u001b[1m11/11\u001b[0m \u001b[32m━━━━━━━━━━━━━━━━━━━━\u001b[0m\u001b[37m\u001b[0m \u001b[1m3s\u001b[0m 109ms/step - accuracy: 0.9682 - loss: 1.2949 - val_accuracy: 0.6667 - val_loss: 2.0281 - learning_rate: 0.0010\n",
            "Epoch 13/50\n",
            "\u001b[1m11/11\u001b[0m \u001b[32m━━━━━━━━━━━━━━━━━━━━\u001b[0m\u001b[37m\u001b[0m \u001b[1m0s\u001b[0m 74ms/step - accuracy: 0.9816 - loss: 1.0226\n",
            "Epoch 13: val_loss did not improve from 1.74258\n",
            "\u001b[1m11/11\u001b[0m \u001b[32m━━━━━━━━━━━━━━━━━━━━\u001b[0m\u001b[37m\u001b[0m \u001b[1m1s\u001b[0m 105ms/step - accuracy: 0.9811 - loss: 1.0175 - val_accuracy: 0.6250 - val_loss: 1.8368 - learning_rate: 0.0010\n",
            "Epoch 14/50\n",
            "\u001b[1m11/11\u001b[0m \u001b[32m━━━━━━━━━━━━━━━━━━━━\u001b[0m\u001b[37m\u001b[0m \u001b[1m0s\u001b[0m 76ms/step - accuracy: 1.0000 - loss: 0.6963\n",
            "Epoch 14: val_loss did not improve from 1.74258\n",
            "\n",
            "Epoch 14: ReduceLROnPlateau reducing learning rate to 0.0005000000237487257.\n",
            "\u001b[1m11/11\u001b[0m \u001b[32m━━━━━━━━━━━━━━━━━━━━\u001b[0m\u001b[37m\u001b[0m \u001b[1m1s\u001b[0m 119ms/step - accuracy: 1.0000 - loss: 0.6933 - val_accuracy: 0.7083 - val_loss: 2.1099 - learning_rate: 0.0010\n",
            "Epoch 15/50\n",
            "\u001b[1m11/11\u001b[0m \u001b[32m━━━━━━━━━━━━━━━━━━━━\u001b[0m\u001b[37m\u001b[0m \u001b[1m0s\u001b[0m 83ms/step - accuracy: 0.9715 - loss: 0.5615\n",
            "Epoch 15: val_loss did not improve from 1.74258\n",
            "\u001b[1m11/11\u001b[0m \u001b[32m━━━━━━━━━━━━━━━━━━━━\u001b[0m\u001b[37m\u001b[0m \u001b[1m3s\u001b[0m 130ms/step - accuracy: 0.9709 - loss: 0.5626 - val_accuracy: 0.5417 - val_loss: 1.8347 - learning_rate: 5.0000e-04\n",
            "Epoch 16/50\n",
            "\u001b[1m11/11\u001b[0m \u001b[32m━━━━━━━━━━━━━━━━━━━━\u001b[0m\u001b[37m\u001b[0m \u001b[1m0s\u001b[0m 84ms/step - accuracy: 0.9935 - loss: 0.6382\n",
            "Epoch 16: val_loss did not improve from 1.74258\n",
            "\u001b[1m11/11\u001b[0m \u001b[32m━━━━━━━━━━━━━━━━━━━━\u001b[0m\u001b[37m\u001b[0m \u001b[1m2s\u001b[0m 131ms/step - accuracy: 0.9930 - loss: 0.6384 - val_accuracy: 0.6667 - val_loss: 1.9457 - learning_rate: 5.0000e-04\n",
            "Epoch 17/50\n",
            "\u001b[1m11/11\u001b[0m \u001b[32m━━━━━━━━━━━━━━━━━━━━\u001b[0m\u001b[37m\u001b[0m \u001b[1m0s\u001b[0m 73ms/step - accuracy: 0.9965 - loss: 0.5476\n",
            "Epoch 17: val_loss improved from 1.74258 to 1.71509, saving model to /tmp/best_model_0.weights.h5\n",
            "\u001b[1m11/11\u001b[0m \u001b[32m━━━━━━━━━━━━━━━━━━━━\u001b[0m\u001b[37m\u001b[0m \u001b[1m6s\u001b[0m 435ms/step - accuracy: 0.9958 - loss: 0.5487 - val_accuracy: 0.6250 - val_loss: 1.7151 - learning_rate: 5.0000e-04\n",
            "Epoch 18/50\n",
            "\u001b[1m11/11\u001b[0m \u001b[32m━━━━━━━━━━━━━━━━━━━━\u001b[0m\u001b[37m\u001b[0m \u001b[1m0s\u001b[0m 76ms/step - accuracy: 1.0000 - loss: 0.5217\n",
            "Epoch 18: val_loss did not improve from 1.71509\n",
            "\u001b[1m11/11\u001b[0m \u001b[32m━━━━━━━━━━━━━━━━━━━━\u001b[0m\u001b[37m\u001b[0m \u001b[1m1s\u001b[0m 108ms/step - accuracy: 1.0000 - loss: 0.5219 - val_accuracy: 0.6250 - val_loss: 1.8591 - learning_rate: 5.0000e-04\n",
            "Epoch 19/50\n",
            "\u001b[1m11/11\u001b[0m \u001b[32m━━━━━━━━━━━━━━━━━━━━\u001b[0m\u001b[37m\u001b[0m \u001b[1m0s\u001b[0m 74ms/step - accuracy: 1.0000 - loss: 0.4373\n",
            "Epoch 19: val_loss did not improve from 1.71509\n",
            "\u001b[1m11/11\u001b[0m \u001b[32m━━━━━━━━━━━━━━━━━━━━\u001b[0m\u001b[37m\u001b[0m \u001b[1m1s\u001b[0m 116ms/step - accuracy: 1.0000 - loss: 0.4363 - val_accuracy: 0.6250 - val_loss: 1.9642 - learning_rate: 5.0000e-04\n",
            "Epoch 20/50\n",
            "\u001b[1m11/11\u001b[0m \u001b[32m━━━━━━━━━━━━━━━━━━━━\u001b[0m\u001b[37m\u001b[0m \u001b[1m0s\u001b[0m 87ms/step - accuracy: 1.0000 - loss: 0.3746\n",
            "Epoch 20: val_loss did not improve from 1.71509\n",
            "\n",
            "Epoch 20: ReduceLROnPlateau reducing learning rate to 0.0002500000118743628.\n",
            "\u001b[1m11/11\u001b[0m \u001b[32m━━━━━━━━━━━━━━━━━━━━\u001b[0m\u001b[37m\u001b[0m \u001b[1m3s\u001b[0m 137ms/step - accuracy: 1.0000 - loss: 0.3733 - val_accuracy: 0.6667 - val_loss: 1.8429 - learning_rate: 5.0000e-04\n",
            "Epoch 21/50\n",
            "\u001b[1m11/11\u001b[0m \u001b[32m━━━━━━━━━━━━━━━━━━━━\u001b[0m\u001b[37m\u001b[0m \u001b[1m0s\u001b[0m 86ms/step - accuracy: 1.0000 - loss: 0.3161\n",
            "Epoch 21: val_loss did not improve from 1.71509\n",
            "\u001b[1m11/11\u001b[0m \u001b[32m━━━━━━━━━━━━━━━━━━━━\u001b[0m\u001b[37m\u001b[0m \u001b[1m2s\u001b[0m 136ms/step - accuracy: 1.0000 - loss: 0.3167 - val_accuracy: 0.6667 - val_loss: 1.7790 - learning_rate: 2.5000e-04\n",
            "Epoch 22/50\n",
            "\u001b[1m11/11\u001b[0m \u001b[32m━━━━━━━━━━━━━━━━━━━━\u001b[0m\u001b[37m\u001b[0m \u001b[1m0s\u001b[0m 74ms/step - accuracy: 1.0000 - loss: 0.3070\n",
            "Epoch 22: val_loss did not improve from 1.71509\n",
            "\u001b[1m11/11\u001b[0m \u001b[32m━━━━━━━━━━━━━━━━━━━━\u001b[0m\u001b[37m\u001b[0m \u001b[1m2s\u001b[0m 107ms/step - accuracy: 1.0000 - loss: 0.3071 - val_accuracy: 0.6667 - val_loss: 1.8132 - learning_rate: 2.5000e-04\n",
            "Epoch 23/50\n",
            "\u001b[1m11/11\u001b[0m \u001b[32m━━━━━━━━━━━━━━━━━━━━\u001b[0m\u001b[37m\u001b[0m \u001b[1m0s\u001b[0m 74ms/step - accuracy: 1.0000 - loss: 0.2930\n",
            "Epoch 23: val_loss did not improve from 1.71509\n",
            "\n",
            "Epoch 23: ReduceLROnPlateau reducing learning rate to 0.0001250000059371814.\n",
            "\u001b[1m11/11\u001b[0m \u001b[32m━━━━━━━━━━━━━━━━━━━━\u001b[0m\u001b[37m\u001b[0m \u001b[1m1s\u001b[0m 117ms/step - accuracy: 1.0000 - loss: 0.2933 - val_accuracy: 0.6667 - val_loss: 1.7370 - learning_rate: 2.5000e-04\n",
            "Epoch 24/50\n",
            "\u001b[1m11/11\u001b[0m \u001b[32m━━━━━━━━━━━━━━━━━━━━\u001b[0m\u001b[37m\u001b[0m \u001b[1m0s\u001b[0m 75ms/step - accuracy: 1.0000 - loss: 0.2919\n",
            "Epoch 24: val_loss did not improve from 1.71509\n",
            "\u001b[1m11/11\u001b[0m \u001b[32m━━━━━━━━━━━━━━━━━━━━\u001b[0m\u001b[37m\u001b[0m \u001b[1m3s\u001b[0m 117ms/step - accuracy: 1.0000 - loss: 0.2915 - val_accuracy: 0.6667 - val_loss: 1.8179 - learning_rate: 1.2500e-04\n",
            "Epoch 25/50\n",
            "\u001b[1m11/11\u001b[0m \u001b[32m━━━━━━━━━━━━━━━━━━━━\u001b[0m\u001b[37m\u001b[0m \u001b[1m0s\u001b[0m 75ms/step - accuracy: 1.0000 - loss: 0.2832\n",
            "Epoch 25: val_loss did not improve from 1.71509\n",
            "\u001b[1m11/11\u001b[0m \u001b[32m━━━━━━━━━━━━━━━━━━━━\u001b[0m\u001b[37m\u001b[0m \u001b[1m3s\u001b[0m 118ms/step - accuracy: 1.0000 - loss: 0.2831 - val_accuracy: 0.6667 - val_loss: 1.8134 - learning_rate: 1.2500e-04\n",
            "Epoch 26/50\n",
            "\u001b[1m11/11\u001b[0m \u001b[32m━━━━━━━━━━━━━━━━━━━━\u001b[0m\u001b[37m\u001b[0m \u001b[1m0s\u001b[0m 72ms/step - accuracy: 1.0000 - loss: 0.2900\n",
            "Epoch 26: val_loss did not improve from 1.71509\n",
            "\n",
            "Epoch 26: ReduceLROnPlateau reducing learning rate to 6.25000029685907e-05.\n",
            "\u001b[1m11/11\u001b[0m \u001b[32m━━━━━━━━━━━━━━━━━━━━\u001b[0m\u001b[37m\u001b[0m \u001b[1m1s\u001b[0m 104ms/step - accuracy: 1.0000 - loss: 0.2889 - val_accuracy: 0.6667 - val_loss: 1.7778 - learning_rate: 1.2500e-04\n",
            "Epoch 27/50\n",
            "\u001b[1m11/11\u001b[0m \u001b[32m━━━━━━━━━━━━━━━━━━━━\u001b[0m\u001b[37m\u001b[0m \u001b[1m0s\u001b[0m 86ms/step - accuracy: 1.0000 - loss: 0.2681\n",
            "Epoch 27: val_loss did not improve from 1.71509\n",
            "\u001b[1m11/11\u001b[0m \u001b[32m━━━━━━━━━━━━━━━━━━━━\u001b[0m\u001b[37m\u001b[0m \u001b[1m2s\u001b[0m 135ms/step - accuracy: 1.0000 - loss: 0.2686 - val_accuracy: 0.6667 - val_loss: 1.7701 - learning_rate: 6.2500e-05\n",
            "Epoch 27: early stopping\n",
            "Restoring model weights from the end of the best epoch: 17.\n"
          ]
        },
        {
          "output_type": "display_data",
          "data": {
            "text/plain": [
              "<Figure size 1200x400 with 2 Axes>"
            ],
            "image/png": "[encoded data removed]"
          },
          "metadata": {}
        },
        {
          "output_type": "stream",
          "name": "stderr",
          "text": [
            "100%|██████████| 1/1 [02:19<00:00, 139.91s/it]\n"
          ]
        }
      ]
    },
    {
      "cell_type": "code",
      "source": [
        "from google.colab import files\n",
        "file_path = \"/tmp/best_model_0.weights.h5\"\n",
        "files.download(file_path)"
      ],
      "metadata": {
        "colab": {
          "base_uri": "https://localhost:8080/",
          "height": 17
        },
        "id": "Js2VNwJr_vi0",
        "outputId": "2d623c93-2b10-47f7-d1f7-02a798f5c71d"
      },
      "execution_count": null,
      "outputs": [
        {
          "output_type": "display_data",
          "data": {
            "text/plain": [
              "<IPython.core.display.Javascript object>"
            ],
            "application/javascript": [
              "\n",
              "    async function download(id, filename, size) {\n",
              "      if (!google.colab.kernel.accessAllowed) {\n",
              "        return;\n",
              "      }\n",
              "      const div = document.createElement('div');\n",
              "      const label = document.createElement('label');\n",
              "      label.textContent = `Downloading \"${filename}\": `;\n",
              "      div.appendChild(label);\n",
              "      const progress = document.createElement('progress');\n",
              "      progress.max = size;\n",
              "      div.appendChild(progress);\n",
              "      document.body.appendChild(div);\n",
              "\n",
              "      const buffers = [];\n",
              "      let downloaded = 0;\n",
              "\n",
              "      const channel = await google.colab.kernel.comms.open(id);\n",
              "      // Send a message to notify the kernel that we're ready.\n",
              "      channel.send({})\n",
              "\n",
              "      for await (const message of channel.messages) {\n",
              "        // Send a message to notify the kernel that we're ready.\n",
              "        channel.send({})\n",
              "        if (message.buffers) {\n",
              "          for (const buffer of message.buffers) {\n",
              "            buffers.push(buffer);\n",
              "            downloaded += buffer.byteLength;\n",
              "            progress.value = downloaded;\n",
              "          }\n",
              "        }\n",
              "      }\n",
              "      const blob = new Blob(buffers, {type: 'application/binary'});\n",
              "      const a = document.createElement('a');\n",
              "      a.href = window.URL.createObjectURL(blob);\n",
              "      a.download = filename;\n",
              "      div.appendChild(a);\n",
              "      a.click();\n",
              "      div.remove();\n",
              "    }\n",
              "  "
            ]
          },
          "metadata": {}
        },
        {
          "output_type": "display_data",
          "data": {
            "text/plain": [
              "<IPython.core.display.Javascript object>"
            ],
            "application/javascript": [
              "download(\"download_f037b74a-153d-4d05-83de-6507aacbace6\", \"best_model_0.weights.h5\", 104576648)"
            ]
          },
          "metadata": {}
        }
      ]
    },
    {
      "cell_type": "markdown",
      "source": [
        "## Evaluate Trained Model"
      ],
      "metadata": {
        "id": "9RX11lpu4Lqg"
      }
    },
    {
      "cell_type": "code",
      "source": [
        "def predict(data, labels, trained_models):\n",
        "    # Collect info per model.\n",
        "    models_predictions = []\n",
        "    models_attention_weights = []\n",
        "    models_losses = []\n",
        "    models_accuracies = []\n",
        "    for model in trained_models:\n",
        "        # Predict output classes on data.\n",
        "        predictions = model.predict(data)\n",
        "        models_predictions.append(predictions)\n",
        "        # Create intermediate model to get MIL attention layer weights.\n",
        "        intermediate_model = keras.Model(model.input, model.get_layer(\"alpha\").output)\n",
        "        # Predict MIL attention layer weights.\n",
        "        intermediate_predictions = intermediate_model.predict(data)\n",
        "        attention_weights = np.squeeze(np.swapaxes(intermediate_predictions, 1, 0))\n",
        "        models_attention_weights.append(attention_weights)\n",
        "        loss, accuracy = model.evaluate(data, labels, verbose=0)\n",
        "        models_losses.append(loss)\n",
        "        models_accuracies.append(accuracy)\n",
        "    print(\n",
        "        f\"The average loss and accuracy are {np.sum(models_losses, axis=0) / ENSEMBLE_COUNT:.2f}\"\n",
        "        f\" and {100 * np.sum(models_accuracies, axis=0) / ENSEMBLE_COUNT:.2f} % resp.\"\n",
        "    )\n",
        "    return (\n",
        "        np.sum(models_predictions, axis=0) / ENSEMBLE_COUNT,\n",
        "        np.sum(models_attention_weights, axis=0) / ENSEMBLE_COUNT,\n",
        "    )"
      ],
      "metadata": {
        "id": "tzPow6cd9Jkw"
      },
      "execution_count": 18,
      "outputs": []
    },
    {
      "cell_type": "code",
      "source": [
        "# Evaluate and predict classes and attention scores on validation data.\n",
        "class_predictions, attention_params = predict(test_bags, test_bags_labels, trained_models)"
      ],
      "metadata": {
        "colab": {
          "base_uri": "https://localhost:8080/"
        },
        "id": "XpexrsXY4OTF",
        "outputId": "01b9c15a-3a30-421c-fdc0-6a3123d0a4d7"
      },
      "execution_count": null,
      "outputs": [
        {
          "output_type": "stream",
          "name": "stderr",
          "text": [
            "WARNING:tensorflow:5 out of the last 5 calls to <function TensorFlowTrainer.make_predict_function.<locals>.one_step_on_data_distributed at 0x7871d01eb2e0> triggered tf.function retracing. Tracing is expensive and the excessive number of tracings could be due to (1) creating @tf.function repeatedly in a loop, (2) passing tensors with different shapes, (3) passing Python objects instead of tensors. For (1), please define your @tf.function outside of the loop. For (2), @tf.function has reduce_retracing=True option that can avoid unnecessary retracing. For (3), please refer to https://www.tensorflow.org/guide/function#controlling_retracing and https://www.tensorflow.org/api_docs/python/tf/function for  more details.\n"
          ]
        },
        {
          "output_type": "stream",
          "name": "stdout",
          "text": [
            "\r\u001b[1m1/2\u001b[0m \u001b[32m━━━━━━━━━━\u001b[0m\u001b[37m━━━━━━━━━━\u001b[0m \u001b[1m6s\u001b[0m 7s/step"
          ]
        },
        {
          "output_type": "stream",
          "name": "stderr",
          "text": [
            "WARNING:tensorflow:6 out of the last 6 calls to <function TensorFlowTrainer.make_predict_function.<locals>.one_step_on_data_distributed at 0x7871d01eb2e0> triggered tf.function retracing. Tracing is expensive and the excessive number of tracings could be due to (1) creating @tf.function repeatedly in a loop, (2) passing tensors with different shapes, (3) passing Python objects instead of tensors. For (1), please define your @tf.function outside of the loop. For (2), @tf.function has reduce_retracing=True option that can avoid unnecessary retracing. For (3), please refer to https://www.tensorflow.org/guide/function#controlling_retracing and https://www.tensorflow.org/api_docs/python/tf/function for  more details.\n"
          ]
        },
        {
          "output_type": "stream",
          "name": "stdout",
          "text": [
            "\u001b[1m2/2\u001b[0m \u001b[32m━━━━━━━━━━━━━━━━━━━━\u001b[0m\u001b[37m\u001b[0m \u001b[1m16s\u001b[0m 9s/step\n",
            "\u001b[1m2/2\u001b[0m \u001b[32m━━━━━━━━━━━━━━━━━━━━\u001b[0m\u001b[37m\u001b[0m \u001b[1m14s\u001b[0m 9s/step\n",
            "The average loss and accuracy are 1.04 and 77.78 % resp.\n"
          ]
        }
      ]
    }
  ]
}